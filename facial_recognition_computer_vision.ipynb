{
  "nbformat": 4,
  "nbformat_minor": 0,
  "metadata": {
    "colab": {
      "provenance": [],
      "mount_file_id": "1iUa_o-bFvZgn0NnS12_h9VjjcYbGkQet",
      "authorship_tag": "ABX9TyMywKEw75aFTE1VXW5HTsyz",
      "include_colab_link": true
    },
    "kernelspec": {
      "name": "python3",
      "display_name": "Python 3"
    },
    "language_info": {
      "name": "python"
    }
  },
  "cells": [
    {
      "cell_type": "markdown",
      "metadata": {
        "id": "view-in-github",
        "colab_type": "text"
      },
      "source": [
        "<a href=\"https://colab.research.google.com/github/kaiquefreire05/facial-recognition-computer-vision/blob/main/facial_recognition_computer_vision.ipynb\" target=\"_parent\"><img src=\"https://colab.research.google.com/assets/colab-badge.svg\" alt=\"Open In Colab\"/></a>"
      ]
    },
    {
      "cell_type": "markdown",
      "source": [
        "# Reconhecimento facial usando visão computacional"
      ],
      "metadata": {
        "id": "AgqPhDA8d84Y"
      }
    },
    {
      "cell_type": "markdown",
      "source": [
        "# Treinamento"
      ],
      "metadata": {
        "id": "NEZA9taitkpd"
      }
    },
    {
      "cell_type": "code",
      "source": [
        "# Importações\n",
        "\n",
        "from google.colab.patches import cv2_imshow\n",
        "from PIL import Image # leitura de imagens\n",
        "import numpy as np\n",
        "import zipfile # descompactar base de dados\n",
        "import os # acessar sistema operacional\n",
        "import cv2"
      ],
      "metadata": {
        "id": "Cg1qu1fMtoJO"
      },
      "execution_count": 129,
      "outputs": []
    },
    {
      "cell_type": "code",
      "source": [
        "# Passando o caminho do arquivo ZIP\n",
        "path = '/content/drive/MyDrive/datasets/yalefaces.zip'\n",
        "\n",
        "\n",
        "with zipfile.ZipFile(path, mode='r') as zip_object: # abrindo o arquivo ZIP no modo de leitura\n",
        "    zip_object.extractall('./') # extraindo todo o conteúdo do arquivo ZIP no diretório atual\n",
        "zip_object.close() # fechando o arquivo ZIP"
      ],
      "metadata": {
        "id": "5WV4BoL3vDhu"
      },
      "execution_count": 130,
      "outputs": []
    },
    {
      "cell_type": "code",
      "source": [
        "def dados_imagens():\n",
        "    \"\"\"\n",
        "    Carrega as imagens do conjunto de dados Yale Faces e retorna os IDs e as imagens em arrays NumPy.\n",
        "\n",
        "    **Argumentos**:\n",
        "        Nenhum.\n",
        "\n",
        "    **Retorna**:\n",
        "    ids: Um array NumPy que contém os IDs das imagens.\n",
        "    faces: Um array NumPy que contém as imagens em tons de cinza.\n",
        "    \"\"\"\n",
        "    # Lista os arquivos no diretório de treinamento\n",
        "    caminhos = [os.path.join('/content/yalefaces/train', f) for f in os.listdir('/content/yalefaces/train')]\n",
        "    faces = []\n",
        "    ids = []\n",
        "\n",
        "    for caminho in caminhos:\n",
        "        # Ignora o arquivo .ipynb_checkpoints\n",
        "        if caminho == '/content/yalefaces/treinamento/.ipynb_checkpoints':\n",
        "            continue\n",
        "\n",
        "        imagem = Image.open(caminho).convert('L') # Carrega a imagem e converte para tons de cinza\n",
        "        imagem_np = np.array(imagem, 'uint8') # Converte a imagem para um array NumPy\n",
        "        id = int(os.path.split(caminho)[1].split('.')[0].replace('subject', '')) # Extrai o ID da imagem\n",
        "\n",
        "        # armazena o ID e a imagem nas listas\n",
        "        ids.append(id)\n",
        "        faces.append(imagem_np)\n",
        "\n",
        "    return np.array(ids), faces"
      ],
      "metadata": {
        "id": "uRB4HLkAxdCd"
      },
      "execution_count": 131,
      "outputs": []
    },
    {
      "cell_type": "code",
      "source": [
        "ids, faces = dados_imagens()"
      ],
      "metadata": {
        "id": "f9xSW849zRp8"
      },
      "execution_count": 132,
      "outputs": []
    },
    {
      "cell_type": "code",
      "source": [
        "# Fazendo treinamento\n",
        "\n",
        "lbph = cv2.face.LBPHFaceRecognizer_create()\n",
        "lbph.train(faces, ids)\n",
        "lbph.write('classificadorLBPH.yml')"
      ],
      "metadata": {
        "id": "dyo_Uhrq1P1s"
      },
      "execution_count": 133,
      "outputs": []
    },
    {
      "cell_type": "markdown",
      "source": [
        "# Classificação"
      ],
      "metadata": {
        "id": "3CJr2Zs-tmLp"
      }
    },
    {
      "cell_type": "code",
      "source": [
        "# Fazendo upload do arquivo já treinado\n",
        "\n",
        "reconhecedor_facial = cv2.face.LBPHFaceRecognizer_create()\n",
        "reconhecedor_facial.read('/content/classificadorLBPH.yml')"
      ],
      "metadata": {
        "id": "jEDVla0btoj4"
      },
      "execution_count": 134,
      "outputs": []
    },
    {
      "cell_type": "code",
      "source": [
        "# Define o caminho para a imagem de teste\n",
        "imagem_teste = '/content/yalefaces/test/subject10.sad.gif'\n",
        "\n",
        "# Abre a imagem usando a biblioteca Pillow\n",
        "imagem = Image.open(imagem_teste)\n",
        "\n",
        "# Converte a imagem para tons de cinza\n",
        "imagem = imagem.convert('L')\n",
        "\n",
        "# Converte a imagem para um array NumPy\n",
        "imagem_np = np.array(imagem, 'uint8')\n",
        "\n",
        "# Imprime o array NumPy\n",
        "print(imagem_np)"
      ],
      "metadata": {
        "colab": {
          "base_uri": "https://localhost:8080/"
        },
        "id": "jI2VdA332t-x",
        "outputId": "ad12fbdc-786a-4a2f-e378-321ecf6db89f"
      },
      "execution_count": 135,
      "outputs": [
        {
          "output_type": "stream",
          "name": "stdout",
          "text": [
            "[[130 130 130 ... 255 255 255]\n",
            " [255 255 255 ... 255 255 255]\n",
            " [255 255 255 ... 255 255 255]\n",
            " ...\n",
            " [255 255 255 ... 241 255 255]\n",
            " [255 255 255 ... 234 237 252]\n",
            " [ 68  68  68 ...  68  68  68]]\n"
          ]
        }
      ]
    },
    {
      "cell_type": "code",
      "source": [
        "# Fazendo previsão\n",
        "\n",
        "idprevisto, _ = reconhecedor_facial.predict(imagem_np)\n",
        "idprevisto\n",
        "# não irei usar o segundo argumento de retorno então coloquei '_'"
      ],
      "metadata": {
        "colab": {
          "base_uri": "https://localhost:8080/"
        },
        "id": "GjcSqTJH3HgS",
        "outputId": "58e037c4-3db8-4be5-9ba8-2408b91983cf"
      },
      "execution_count": 136,
      "outputs": [
        {
          "output_type": "execute_result",
          "data": {
            "text/plain": [
              "10"
            ]
          },
          "metadata": {},
          "execution_count": 136
        }
      ]
    },
    {
      "cell_type": "code",
      "source": [
        "# Obtendo o id correto para comparar\n",
        "\n",
        "idcorreto = int(os.path.split(imagem_teste)[1].split('.')[0].replace('subject', ''))\n",
        "idcorreto\n",
        "# imagem_teste, é o caminho original da imagem"
      ],
      "metadata": {
        "colab": {
          "base_uri": "https://localhost:8080/"
        },
        "id": "J7fDqpLF3iBq",
        "outputId": "f46edc24-cc87-4dd6-d8f8-a7acd4b7701c"
      },
      "execution_count": 137,
      "outputs": [
        {
          "output_type": "execute_result",
          "data": {
            "text/plain": [
              "10"
            ]
          },
          "metadata": {},
          "execution_count": 137
        }
      ]
    },
    {
      "cell_type": "code",
      "source": [
        "# Visualizar imagem e verificar se acertou ou não por meio da imagem\n",
        "\n",
        "cv2.putText(imagem_np, 'P: ' + str(idprevisto), (x - 80, y - 80), cv2.FONT_HERSHEY_COMPLEX_SMALL, 1, (0, 255, 0)) # desenha o texto \"P: \" seguido do ID previsto na coordenada (x, y + 30)\n",
        "cv2.putText(imagem_np, 'C: ' + str(idcorreto), (x - 80,y - 60), cv2.FONT_HERSHEY_COMPLEX_SMALL, 1, (0, 255, 0)) # desenha o texto \"C: \" seguido do ID correto na coordenada (x, y + 50)\n",
        "cv2_imshow(imagem_np) # exibe a imagem com as anotações adicionadas"
      ],
      "metadata": {
        "colab": {
          "base_uri": "https://localhost:8080/",
          "height": 260
        },
        "id": "7dYt3Hc13ysW",
        "outputId": "c3c6585b-b705-407f-8977-c642355490bb"
      },
      "execution_count": 138,
      "outputs": [
        {
          "output_type": "display_data",
          "data": {
            "text/plain": [
              "<PIL.Image.Image image mode=L size=320x243>"
            ],
            "image/png": "[encoded data removed]"
          },
          "metadata": {}
        }
      ]
    }
  ]
}